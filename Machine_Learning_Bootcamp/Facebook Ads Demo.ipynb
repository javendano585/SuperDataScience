{
 "cells": [
  {
   "cell_type": "markdown",
   "metadata": {},
   "source": [
    "# Facebook Ads - Demo\n",
    "*Jaime Avendaño*  \n",
    "\n",
    "This is a demo of a previously create linear regression model. The objective is to predict whether or not a customer will click on a Facebook ad."
   ]
  },
  {
   "cell_type": "code",
   "execution_count": 33,
   "metadata": {},
   "outputs": [],
   "source": [
    "import ipywidgets as widgets\n",
    "from IPython.display import display\n",
    "import pandas as pd"
   ]
  },
  {
   "cell_type": "code",
   "execution_count": 3,
   "metadata": {},
   "outputs": [],
   "source": [
    "from sklearn.preprocessing import StandardScaler\n",
    "from sklearn.linear_model import LogisticRegression\n",
    "\n",
    "from joblib import load"
   ]
  },
  {
   "cell_type": "code",
   "execution_count": 4,
   "metadata": {},
   "outputs": [],
   "source": [
    "scaler = load('Model_Data/facebook_ads_scaler.joblib')\n",
    "classifier = load('Model_Data/facebook_ads_classifier.joblib') "
   ]
  },
  {
   "cell_type": "code",
   "execution_count": 77,
   "metadata": {},
   "outputs": [],
   "source": [
    "salary = widgets.IntSlider(\n",
    "    value=50_000, \n",
    "    min=0, \n",
    "    max=100_000, \n",
    "    step=1,\n",
    "    description='Salary:',\n",
    "    continuous_update=False,\n",
    "    readout_format='d'\n",
    ")\n",
    "time = widgets.IntSlider(\n",
    "    value=30, \n",
    "    min=0, \n",
    "    max=60, \n",
    "    step=1,\n",
    "    description='Time on Site:',\n",
    "    continuous_update=False,\n",
    "    readout_format='d'\n",
    ")\n",
    "prediction = widgets.Label()"
   ]
  },
  {
   "cell_type": "code",
   "execution_count": 72,
   "metadata": {},
   "outputs": [],
   "source": [
    "def on_change(change):\n",
    "    prediction.value = ''\n",
    "    demo_data = pd.DataFrame(data = [[salary.value, time.value]], \n",
    "                             columns = ['salary', 'time_spent_on_site'])\n",
    "    scaled_data = scaler.transform(demo_data)\n",
    "    demo_pred = classifier.predict(scaled_data)\n",
    "    if demo_pred[0] == 0:\n",
    "        prediction.value = 'Nope! The user didn''t click on the ad.'\n",
    "    else:\n",
    "        prediction.value = 'Yes! The ad worked!'"
   ]
  },
  {
   "cell_type": "code",
   "execution_count": 78,
   "metadata": {},
   "outputs": [],
   "source": [
    "salary.observe(on_change)\n",
    "time.observe(on_change)"
   ]
  },
  {
   "cell_type": "code",
   "execution_count": 79,
   "metadata": {},
   "outputs": [
    {
     "data": {
      "application/vnd.jupyter.widget-view+json": {
       "model_id": "9f1e2d49f1b54e29a26d712702f704ba",
       "version_major": 2,
       "version_minor": 0
      },
      "text/plain": [
       "IntSlider(value=50000, continuous_update=False, description='Salary:', max=100000)"
      ]
     },
     "metadata": {},
     "output_type": "display_data"
    },
    {
     "data": {
      "application/vnd.jupyter.widget-view+json": {
       "model_id": "38ed5151fb194543a61f13b12989b31f",
       "version_major": 2,
       "version_minor": 0
      },
      "text/plain": [
       "IntSlider(value=30, continuous_update=False, description='Time on Site:', max=60)"
      ]
     },
     "metadata": {},
     "output_type": "display_data"
    },
    {
     "data": {
      "application/vnd.jupyter.widget-view+json": {
       "model_id": "23635c7a59254b64a6c5ba8aabeab9bc",
       "version_major": 2,
       "version_minor": 0
      },
      "text/plain": [
       "Label(value='')"
      ]
     },
     "metadata": {},
     "output_type": "display_data"
    }
   ],
   "source": [
    "display(\n",
    "    salary,\n",
    "    time,\n",
    "    prediction\n",
    ")"
   ]
  }
 ],
 "metadata": {
  "kernelspec": {
   "display_name": "Python 3",
   "language": "python",
   "name": "python3"
  },
  "language_info": {
   "codemirror_mode": {
    "name": "ipython",
    "version": 3
   },
   "file_extension": ".py",
   "mimetype": "text/x-python",
   "name": "python",
   "nbconvert_exporter": "python",
   "pygments_lexer": "ipython3",
   "version": "3.8.5"
  }
 },
 "nbformat": 4,
 "nbformat_minor": 4
}
