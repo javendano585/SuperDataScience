{
 "cells": [
  {
   "cell_type": "markdown",
   "metadata": {},
   "source": [
    "# Facebook Ads - Demo\n",
    "*Jaime Avendaño*  \n",
    "\n",
    "This is a demo of a previously created logistic regression classifier model. The objective is to predict whether or not a customer will click on a Facebook ad."
   ]
  },
  {
   "cell_type": "code",
   "execution_count": 11,
   "metadata": {},
   "outputs": [],
   "source": [
    "import ipywidgets as widgets\n",
    "from IPython.display import display"
   ]
  },
  {
   "cell_type": "code",
   "execution_count": 12,
   "metadata": {},
   "outputs": [],
   "source": [
    "from sklearn.preprocessing import StandardScaler\n",
    "from sklearn.linear_model import LogisticRegression\n",
    "\n",
    "from joblib import load"
   ]
  },
  {
   "cell_type": "code",
   "execution_count": 13,
   "metadata": {},
   "outputs": [],
   "source": [
    "scaler = load('Model_Data/facebook_ads_scaler.joblib')\n",
    "classifier = load('Model_Data/facebook_ads_classifier.joblib') "
   ]
  },
  {
   "cell_type": "code",
   "execution_count": 14,
   "metadata": {},
   "outputs": [],
   "source": [
    "salary = widgets.IntSlider(\n",
    "    value=50_000, \n",
    "    min=0, \n",
    "    max=100_000, \n",
    "    step=1,\n",
    "    description='Salary:',\n",
    "    continuous_update=False,\n",
    "    readout_format='d'\n",
    ")\n",
    "time = widgets.IntSlider(\n",
    "    value=30, \n",
    "    min=0, \n",
    "    max=60, \n",
    "    step=1,\n",
    "    description='Time on Site:',\n",
    "    continuous_update=False,\n",
    "    readout_format='d'\n",
    ")\n",
    "prediction = widgets.Label(\n",
    "    value='Did the ad work?'\n",
    ")"
   ]
  },
  {
   "cell_type": "code",
   "execution_count": 15,
   "metadata": {},
   "outputs": [],
   "source": [
    "def on_change(change):\n",
    "    prediction.value = ''\n",
    "\n",
    "    scaled_data = scaler.transform([[salary.value, time.value]])\n",
    "    demo_pred = classifier.predict(scaled_data)\n",
    "\n",
    "    if demo_pred[0] == 0:\n",
    "        prediction.value = 'Nope! The user didn''t click on the ad.'\n",
    "    else:\n",
    "        prediction.value = 'Yes! The ad worked!'"
   ]
  },
  {
   "cell_type": "code",
   "execution_count": 16,
   "metadata": {},
   "outputs": [],
   "source": [
    "salary.observe(on_change)\n",
    "time.observe(on_change)"
   ]
  },
  {
   "cell_type": "code",
   "execution_count": 17,
   "metadata": {},
   "outputs": [
    {
     "data": {
      "application/vnd.jupyter.widget-view+json": {
       "model_id": "24ab04c29ff04daaa60f098bea26902f",
       "version_major": 2,
       "version_minor": 0
      },
      "text/plain": [
       "IntSlider(value=50000, continuous_update=False, description='Salary:', max=100000)"
      ]
     },
     "metadata": {},
     "output_type": "display_data"
    },
    {
     "data": {
      "application/vnd.jupyter.widget-view+json": {
       "model_id": "67cc0009ac514fc2b5f3c927ad535401",
       "version_major": 2,
       "version_minor": 0
      },
      "text/plain": [
       "IntSlider(value=30, continuous_update=False, description='Time on Site:', max=60)"
      ]
     },
     "metadata": {},
     "output_type": "display_data"
    },
    {
     "data": {
      "application/vnd.jupyter.widget-view+json": {
       "model_id": "47b9fbe0ba034ea2a9501b98cc4d2cc0",
       "version_major": 2,
       "version_minor": 0
      },
      "text/plain": [
       "Label(value='Did the ad work?')"
      ]
     },
     "metadata": {},
     "output_type": "display_data"
    }
   ],
   "source": [
    "display(\n",
    "    salary,\n",
    "    time,\n",
    "    prediction\n",
    ")"
   ]
  },
  {
   "cell_type": "code",
   "execution_count": null,
   "metadata": {},
   "outputs": [],
   "source": []
  }
 ],
 "metadata": {
  "kernelspec": {
   "display_name": "Python 3",
   "language": "python",
   "name": "python3"
  },
  "language_info": {
   "codemirror_mode": {
    "name": "ipython",
    "version": 3
   },
   "file_extension": ".py",
   "mimetype": "text/x-python",
   "name": "python",
   "nbconvert_exporter": "python",
   "pygments_lexer": "ipython3",
   "version": "3.8.5"
  }
 },
 "nbformat": 4,
 "nbformat_minor": 4
}
